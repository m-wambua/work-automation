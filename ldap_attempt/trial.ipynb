{
 "cells": [
  {
   "cell_type": "code",
   "execution_count": 1,
   "metadata": {},
   "outputs": [
    {
     "name": "stderr",
     "output_type": "stream",
     "text": [
      "Unable to obtain driver using Selenium Manager: Selenium Manager failed for: c:\\Users\\ip 5\\mike\\work_related\\work_related\\lib\\site-packages\\selenium\\webdriver\\common\\windows\\selenium-manager.exe --browser chrome --output json.\n",
      "error sending request for url (https://chromedriver.storage.googleapis.com/LATEST_RELEASE_114): error trying to connect: An existing connection was forcibly closed by the remote host. (os error 10054)\n"
     ]
    },
    {
     "ename": "SeleniumManagerException",
     "evalue": "Message: Selenium Manager failed for: c:\\Users\\ip 5\\mike\\work_related\\work_related\\lib\\site-packages\\selenium\\webdriver\\common\\windows\\selenium-manager.exe --browser chrome --output json.\nerror sending request for url (https://chromedriver.storage.googleapis.com/LATEST_RELEASE_114): error trying to connect: An existing connection was forcibly closed by the remote host. (os error 10054)\n",
     "output_type": "error",
     "traceback": [
      "\u001b[1;31m---------------------------------------------------------------------------\u001b[0m",
      "\u001b[1;31mSeleniumManagerException\u001b[0m                  Traceback (most recent call last)",
      "Cell \u001b[1;32mIn[1], line 4\u001b[0m\n\u001b[0;32m      1\u001b[0m \u001b[39mfrom\u001b[39;00m \u001b[39mselenium\u001b[39;00m \u001b[39mimport\u001b[39;00m webdriver\n\u001b[0;32m      3\u001b[0m \u001b[39m# Create the webdriver instance\u001b[39;00m\n\u001b[1;32m----> 4\u001b[0m driver \u001b[39m=\u001b[39m webdriver\u001b[39m.\u001b[39;49mChrome()  \u001b[39m# Replace with the appropriate webdriver (e.g., Chrome, Firefox, etc.)\u001b[39;00m\n\u001b[0;32m      6\u001b[0m \u001b[39m# Navigate to the URL\u001b[39;00m\n\u001b[0;32m      7\u001b[0m url \u001b[39m=\u001b[39m \u001b[39m'\u001b[39m\u001b[39mhttps://portal.epra.go.ke:8080/sonora/Case?op=g&id=358481\u001b[39m\u001b[39m'\u001b[39m\n",
      "File \u001b[1;32mc:\\Users\\ip 5\\mike\\work_related\\work_related\\lib\\site-packages\\selenium\\webdriver\\chrome\\webdriver.py:82\u001b[0m, in \u001b[0;36mWebDriver.__init__\u001b[1;34m(self, executable_path, port, options, service_args, desired_capabilities, service_log_path, chrome_options, service, keep_alive)\u001b[0m\n\u001b[0;32m     80\u001b[0m \u001b[39mif\u001b[39;00m \u001b[39mnot\u001b[39;00m service:\n\u001b[0;32m     81\u001b[0m     service \u001b[39m=\u001b[39m Service(executable_path, port, service_args, service_log_path)\n\u001b[1;32m---> 82\u001b[0m service\u001b[39m.\u001b[39mpath \u001b[39m=\u001b[39m DriverFinder\u001b[39m.\u001b[39;49mget_path(service, options)\n\u001b[0;32m     84\u001b[0m \u001b[39msuper\u001b[39m()\u001b[39m.\u001b[39m\u001b[39m__init__\u001b[39m(\n\u001b[0;32m     85\u001b[0m     DesiredCapabilities\u001b[39m.\u001b[39mCHROME[\u001b[39m\"\u001b[39m\u001b[39mbrowserName\u001b[39m\u001b[39m\"\u001b[39m],\n\u001b[0;32m     86\u001b[0m     \u001b[39m\"\u001b[39m\u001b[39mgoog\u001b[39m\u001b[39m\"\u001b[39m,\n\u001b[1;32m   (...)\u001b[0m\n\u001b[0;32m     93\u001b[0m     keep_alive,\n\u001b[0;32m     94\u001b[0m )\n",
      "File \u001b[1;32mc:\\Users\\ip 5\\mike\\work_related\\work_related\\lib\\site-packages\\selenium\\webdriver\\common\\driver_finder.py:43\u001b[0m, in \u001b[0;36mDriverFinder.get_path\u001b[1;34m(service, options)\u001b[0m\n\u001b[0;32m     41\u001b[0m \u001b[39mexcept\u001b[39;00m WebDriverException \u001b[39mas\u001b[39;00m err:\n\u001b[0;32m     42\u001b[0m     logger\u001b[39m.\u001b[39mwarning(\u001b[39m\"\u001b[39m\u001b[39mUnable to obtain driver using Selenium Manager: \u001b[39m\u001b[39m\"\u001b[39m \u001b[39m+\u001b[39m err\u001b[39m.\u001b[39mmsg)\n\u001b[1;32m---> 43\u001b[0m     \u001b[39mraise\u001b[39;00m err\n\u001b[0;32m     45\u001b[0m \u001b[39mreturn\u001b[39;00m path\n",
      "File \u001b[1;32mc:\\Users\\ip 5\\mike\\work_related\\work_related\\lib\\site-packages\\selenium\\webdriver\\common\\driver_finder.py:40\u001b[0m, in \u001b[0;36mDriverFinder.get_path\u001b[1;34m(service, options)\u001b[0m\n\u001b[0;32m     37\u001b[0m \u001b[39m@staticmethod\u001b[39m\n\u001b[0;32m     38\u001b[0m \u001b[39mdef\u001b[39;00m \u001b[39mget_path\u001b[39m(service: Service, options: BaseOptions) \u001b[39m-\u001b[39m\u001b[39m>\u001b[39m \u001b[39mstr\u001b[39m:\n\u001b[0;32m     39\u001b[0m     \u001b[39mtry\u001b[39;00m:\n\u001b[1;32m---> 40\u001b[0m         path \u001b[39m=\u001b[39m shutil\u001b[39m.\u001b[39mwhich(service\u001b[39m.\u001b[39mpath) \u001b[39mor\u001b[39;00m SeleniumManager()\u001b[39m.\u001b[39;49mdriver_location(options)\n\u001b[0;32m     41\u001b[0m     \u001b[39mexcept\u001b[39;00m WebDriverException \u001b[39mas\u001b[39;00m err:\n\u001b[0;32m     42\u001b[0m         logger\u001b[39m.\u001b[39mwarning(\u001b[39m\"\u001b[39m\u001b[39mUnable to obtain driver using Selenium Manager: \u001b[39m\u001b[39m\"\u001b[39m \u001b[39m+\u001b[39m err\u001b[39m.\u001b[39mmsg)\n",
      "File \u001b[1;32mc:\\Users\\ip 5\\mike\\work_related\\work_related\\lib\\site-packages\\selenium\\webdriver\\common\\selenium_manager.py:91\u001b[0m, in \u001b[0;36mSeleniumManager.driver_location\u001b[1;34m(self, options)\u001b[0m\n\u001b[0;32m     88\u001b[0m \u001b[39mif\u001b[39;00m logger\u001b[39m.\u001b[39mgetEffectiveLevel() \u001b[39m==\u001b[39m logging\u001b[39m.\u001b[39mDEBUG:\n\u001b[0;32m     89\u001b[0m     args\u001b[39m.\u001b[39mappend(\u001b[39m\"\u001b[39m\u001b[39m--debug\u001b[39m\u001b[39m\"\u001b[39m)\n\u001b[1;32m---> 91\u001b[0m result \u001b[39m=\u001b[39m \u001b[39mself\u001b[39;49m\u001b[39m.\u001b[39;49mrun(args)\n\u001b[0;32m     92\u001b[0m executable \u001b[39m=\u001b[39m result\u001b[39m.\u001b[39msplit(\u001b[39m\"\u001b[39m\u001b[39m\\t\u001b[39;00m\u001b[39m\"\u001b[39m)[\u001b[39m-\u001b[39m\u001b[39m1\u001b[39m]\u001b[39m.\u001b[39mstrip()\n\u001b[0;32m     93\u001b[0m logger\u001b[39m.\u001b[39mdebug(\u001b[39mf\u001b[39m\u001b[39m\"\u001b[39m\u001b[39mUsing driver at: \u001b[39m\u001b[39m{\u001b[39;00mexecutable\u001b[39m}\u001b[39;00m\u001b[39m\"\u001b[39m)\n",
      "File \u001b[1;32mc:\\Users\\ip 5\\mike\\work_related\\work_related\\lib\\site-packages\\selenium\\webdriver\\common\\selenium_manager.py:112\u001b[0m, in \u001b[0;36mSeleniumManager.run\u001b[1;34m(args)\u001b[0m\n\u001b[0;32m    110\u001b[0m result \u001b[39m=\u001b[39m output[\u001b[39m\"\u001b[39m\u001b[39mresult\u001b[39m\u001b[39m\"\u001b[39m][\u001b[39m\"\u001b[39m\u001b[39mmessage\u001b[39m\u001b[39m\"\u001b[39m]\n\u001b[0;32m    111\u001b[0m \u001b[39mif\u001b[39;00m completed_proc\u001b[39m.\u001b[39mreturncode:\n\u001b[1;32m--> 112\u001b[0m     \u001b[39mraise\u001b[39;00m SeleniumManagerException(\u001b[39mf\u001b[39m\u001b[39m\"\u001b[39m\u001b[39mSelenium Manager failed for: \u001b[39m\u001b[39m{\u001b[39;00mcommand\u001b[39m}\u001b[39;00m\u001b[39m.\u001b[39m\u001b[39m\\n\u001b[39;00m\u001b[39m{\u001b[39;00mresult\u001b[39m}\u001b[39;00m\u001b[39m{\u001b[39;00mstderr\u001b[39m}\u001b[39;00m\u001b[39m\"\u001b[39m)\n\u001b[0;32m    113\u001b[0m \u001b[39melse\u001b[39;00m:\n\u001b[0;32m    114\u001b[0m     \u001b[39m# Selenium Manager exited successfully, return executable path and print warnings\u001b[39;00m\n\u001b[0;32m    115\u001b[0m     \u001b[39mfor\u001b[39;00m item \u001b[39min\u001b[39;00m output[\u001b[39m\"\u001b[39m\u001b[39mlogs\u001b[39m\u001b[39m\"\u001b[39m]:\n",
      "\u001b[1;31mSeleniumManagerException\u001b[0m: Message: Selenium Manager failed for: c:\\Users\\ip 5\\mike\\work_related\\work_related\\lib\\site-packages\\selenium\\webdriver\\common\\windows\\selenium-manager.exe --browser chrome --output json.\nerror sending request for url (https://chromedriver.storage.googleapis.com/LATEST_RELEASE_114): error trying to connect: An existing connection was forcibly closed by the remote host. (os error 10054)\n"
     ]
    }
   ],
   "source": [
    "from selenium import webdriver\n",
    "\n",
    "# Create the webdriver instance\n",
    "driver = webdriver.Chrome()  # Replace with the appropriate webdriver (e.g., Chrome, Firefox, etc.)\n",
    "\n",
    "# Navigate to the URL\n",
    "url = 'https://portal.epra.go.ke:8080/sonora/Case?op=g&id=358481'\n",
    "driver.get(url)\n",
    "\n",
    "# Perform any further actions or data extraction as needed\n",
    "\n",
    "# Close the browser\n",
    "driver.quit()"
   ]
  },
  {
   "cell_type": "code",
   "execution_count": null,
   "metadata": {},
   "outputs": [],
   "source": []
  }
 ],
 "metadata": {
  "kernelspec": {
   "display_name": "work_related",
   "language": "python",
   "name": "python3"
  },
  "language_info": {
   "codemirror_mode": {
    "name": "ipython",
    "version": 3
   },
   "file_extension": ".py",
   "mimetype": "text/x-python",
   "name": "python",
   "nbconvert_exporter": "python",
   "pygments_lexer": "ipython3",
   "version": "3.8.8"
  },
  "orig_nbformat": 4
 },
 "nbformat": 4,
 "nbformat_minor": 2
}
