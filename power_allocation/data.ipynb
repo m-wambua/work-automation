{
 "cells": [
  {
   "cell_type": "code",
   "execution_count": 30,
   "metadata": {},
   "outputs": [],
   "source": [
    "# Imports\n",
    "import pandas as pd\n",
    "import numpy as np"
   ]
  },
  {
   "cell_type": "code",
   "execution_count": 31,
   "metadata": {},
   "outputs": [],
   "source": [
    "df=pd.read_excel('C:/Users/ip 5/Downloads/Copy of GSP_DATA_19_22(208).xlsx')"
   ]
  },
  {
   "cell_type": "code",
   "execution_count": 32,
   "metadata": {},
   "outputs": [],
   "source": [
    "df_no_nul=df.dropna()"
   ]
  },
  {
   "cell_type": "code",
   "execution_count": 33,
   "metadata": {},
   "outputs": [],
   "source": [
    "date_1=df_no_nul.pop('DATETIME')"
   ]
  },
  {
   "cell_type": "code",
   "execution_count": 34,
   "metadata": {},
   "outputs": [],
   "source": [
    "date_2=pd.to_datetime(date_1)"
   ]
  },
  {
   "cell_type": "code",
   "execution_count": 35,
   "metadata": {},
   "outputs": [
    {
     "data": {
      "text/plain": [
       "0       2019-11-01 06:00:00\n",
       "1       2019-11-01 07:00:00\n",
       "2       2019-11-01 08:00:00\n",
       "3       2019-11-01 09:00:00\n",
       "4       2019-11-01 10:00:00\n",
       "                ...        \n",
       "13645   2022-10-31 14:00:00\n",
       "13646   2022-10-31 15:00:00\n",
       "13647   2022-10-31 16:00:00\n",
       "13648   2022-10-31 17:00:00\n",
       "13649   2022-10-31 18:00:00\n",
       "Name: DATETIME, Length: 13638, dtype: datetime64[ns]"
      ]
     },
     "execution_count": 35,
     "metadata": {},
     "output_type": "execute_result"
    }
   ],
   "source": [
    "date_2"
   ]
  },
  {
   "cell_type": "code",
   "execution_count": 36,
   "metadata": {},
   "outputs": [
    {
     "data": {
      "text/html": [
       "<div>\n",
       "<style scoped>\n",
       "    .dataframe tbody tr th:only-of-type {\n",
       "        vertical-align: middle;\n",
       "    }\n",
       "\n",
       "    .dataframe tbody tr th {\n",
       "        vertical-align: top;\n",
       "    }\n",
       "\n",
       "    .dataframe thead th {\n",
       "        text-align: right;\n",
       "    }\n",
       "</style>\n",
       "<table border=\"1\" class=\"dataframe\">\n",
       "  <thead>\n",
       "    <tr style=\"text-align: right;\">\n",
       "      <th></th>\n",
       "      <th>DATETIME</th>\n",
       "      <th>MONTHDAY</th>\n",
       "      <th>YEARDAY</th>\n",
       "      <th>MONTH</th>\n",
       "      <th>DAY</th>\n",
       "      <th>HOUR</th>\n",
       "      <th>GHI(W/m2)</th>\n",
       "      <th>DHI(W/m2)</th>\n",
       "      <th>DNI(W/m2)</th>\n",
       "      <th>TEMPERATURE</th>\n",
       "      <th>R.HUMIDITY</th>\n",
       "      <th>WINDSPEED</th>\n",
       "      <th>CABLE#1</th>\n",
       "      <th>CABLE#2</th>\n",
       "      <th>CABLE#3</th>\n",
       "      <th>CABLE#4</th>\n",
       "      <th>CABLE#5</th>\n",
       "      <th>TX(LV)</th>\n",
       "    </tr>\n",
       "  </thead>\n",
       "  <tbody>\n",
       "    <tr>\n",
       "      <th>0</th>\n",
       "      <td>2019-11-01 06:00:00</td>\n",
       "      <td>12</td>\n",
       "      <td>305.0</td>\n",
       "      <td>11</td>\n",
       "      <td>1</td>\n",
       "      <td>6</td>\n",
       "      <td>0.0</td>\n",
       "      <td>0.0</td>\n",
       "      <td>1.0</td>\n",
       "      <td>23.2</td>\n",
       "      <td>95.26</td>\n",
       "      <td>11.9</td>\n",
       "      <td>0.00</td>\n",
       "      <td>0</td>\n",
       "      <td>0.00</td>\n",
       "      <td>0.00</td>\n",
       "      <td>0.00</td>\n",
       "      <td>0.00</td>\n",
       "    </tr>\n",
       "    <tr>\n",
       "      <th>1</th>\n",
       "      <td>2019-11-01 07:00:00</td>\n",
       "      <td>12</td>\n",
       "      <td>305.0</td>\n",
       "      <td>11</td>\n",
       "      <td>1</td>\n",
       "      <td>7</td>\n",
       "      <td>261.0</td>\n",
       "      <td>145.0</td>\n",
       "      <td>436.0</td>\n",
       "      <td>24.3</td>\n",
       "      <td>89.70</td>\n",
       "      <td>17.6</td>\n",
       "      <td>2.68</td>\n",
       "      <td>2.74</td>\n",
       "      <td>2.68</td>\n",
       "      <td>2.75</td>\n",
       "      <td>1.77</td>\n",
       "      <td>12.16</td>\n",
       "    </tr>\n",
       "    <tr>\n",
       "      <th>2</th>\n",
       "      <td>2019-11-01 08:00:00</td>\n",
       "      <td>12</td>\n",
       "      <td>305.0</td>\n",
       "      <td>11</td>\n",
       "      <td>1</td>\n",
       "      <td>8</td>\n",
       "      <td>123.0</td>\n",
       "      <td>127.0</td>\n",
       "      <td>5.0</td>\n",
       "      <td>25.8</td>\n",
       "      <td>80.06</td>\n",
       "      <td>22.7</td>\n",
       "      <td>4.68</td>\n",
       "      <td>3.03</td>\n",
       "      <td>2.71</td>\n",
       "      <td>1.86</td>\n",
       "      <td>0.88</td>\n",
       "      <td>12.52</td>\n",
       "    </tr>\n",
       "    <tr>\n",
       "      <th>3</th>\n",
       "      <td>2019-11-01 09:00:00</td>\n",
       "      <td>12</td>\n",
       "      <td>305.0</td>\n",
       "      <td>11</td>\n",
       "      <td>1</td>\n",
       "      <td>9</td>\n",
       "      <td>775.0</td>\n",
       "      <td>205.0</td>\n",
       "      <td>748.0</td>\n",
       "      <td>28.2</td>\n",
       "      <td>69.53</td>\n",
       "      <td>22.3</td>\n",
       "      <td>6.64</td>\n",
       "      <td>7.77</td>\n",
       "      <td>7.47</td>\n",
       "      <td>7.93</td>\n",
       "      <td>4.62</td>\n",
       "      <td>35.92</td>\n",
       "    </tr>\n",
       "    <tr>\n",
       "      <th>4</th>\n",
       "      <td>2019-11-01 10:00:00</td>\n",
       "      <td>12</td>\n",
       "      <td>305.0</td>\n",
       "      <td>11</td>\n",
       "      <td>1</td>\n",
       "      <td>10</td>\n",
       "      <td>936.0</td>\n",
       "      <td>129.0</td>\n",
       "      <td>870.0</td>\n",
       "      <td>28.3</td>\n",
       "      <td>66.23</td>\n",
       "      <td>23.8</td>\n",
       "      <td>8.77</td>\n",
       "      <td>8.87</td>\n",
       "      <td>8.80</td>\n",
       "      <td>8.86</td>\n",
       "      <td>5.76</td>\n",
       "      <td>41.68</td>\n",
       "    </tr>\n",
       "  </tbody>\n",
       "</table>\n",
       "</div>"
      ],
      "text/plain": [
       "             DATETIME  MONTHDAY  YEARDAY  MONTH  DAY  HOUR  GHI(W/m2)  \\\n",
       "0 2019-11-01 06:00:00        12    305.0     11    1     6        0.0   \n",
       "1 2019-11-01 07:00:00        12    305.0     11    1     7      261.0   \n",
       "2 2019-11-01 08:00:00        12    305.0     11    1     8      123.0   \n",
       "3 2019-11-01 09:00:00        12    305.0     11    1     9      775.0   \n",
       "4 2019-11-01 10:00:00        12    305.0     11    1    10      936.0   \n",
       "\n",
       "   DHI(W/m2)  DNI(W/m2)  TEMPERATURE  R.HUMIDITY  WINDSPEED  CABLE#1 CABLE#2  \\\n",
       "0        0.0        1.0         23.2       95.26       11.9     0.00       0   \n",
       "1      145.0      436.0         24.3       89.70       17.6     2.68    2.74   \n",
       "2      127.0        5.0         25.8       80.06       22.7     4.68    3.03   \n",
       "3      205.0      748.0         28.2       69.53       22.3     6.64    7.77   \n",
       "4      129.0      870.0         28.3       66.23       23.8     8.77    8.87   \n",
       "\n",
       "   CABLE#3  CABLE#4  CABLE#5  TX(LV)  \n",
       "0     0.00     0.00     0.00    0.00  \n",
       "1     2.68     2.75     1.77   12.16  \n",
       "2     2.71     1.86     0.88   12.52  \n",
       "3     7.47     7.93     4.62   35.92  \n",
       "4     8.80     8.86     5.76   41.68  "
      ]
     },
     "metadata": {},
     "output_type": "display_data"
    },
    {
     "name": "stdout",
     "output_type": "stream",
     "text": [
      "Raw Data :\n",
      " None\n"
     ]
    }
   ],
   "source": [
    "Month=pd.DataFrame(date_2.dt.month).rename(columns = {'DATETIME': 'MONTH'}, inplace = False)\n",
    "Day = pd.DataFrame(date_2.dt.day).rename(columns = {'DATETIME': 'DAY'}, inplace = False)\n",
    "Hour=pd.DataFrame(date_2.dt.hour).rename(columns = {'DATETIME': 'HOUR'}, inplace = False)\n",
    "Monthday=pd.DataFrame((date_2.dt.month+date_2.dt.day)).rename(columns = {'DATETIME': 'MONTHDAY'}, inplace = False)\n",
    "Yearday=pd.DataFrame(((date_2.dt.month)-1)*30.4+(date_2.dt.day)).rename(columns = {'DATETIME': 'YEARDAY'}, inplace = False)\n",
    "df3=pd.concat([date_2,Monthday,Yearday,Month,Day,Hour,df_no_nul],axis=1)\n",
    "print('Raw Data :\\n',display(df3.head()))"
   ]
  },
  {
   "cell_type": "code",
   "execution_count": 37,
   "metadata": {},
   "outputs": [
    {
     "data": {
      "text/html": [
       "<div>\n",
       "<style scoped>\n",
       "    .dataframe tbody tr th:only-of-type {\n",
       "        vertical-align: middle;\n",
       "    }\n",
       "\n",
       "    .dataframe tbody tr th {\n",
       "        vertical-align: top;\n",
       "    }\n",
       "\n",
       "    .dataframe thead th {\n",
       "        text-align: right;\n",
       "    }\n",
       "</style>\n",
       "<table border=\"1\" class=\"dataframe\">\n",
       "  <thead>\n",
       "    <tr style=\"text-align: right;\">\n",
       "      <th></th>\n",
       "      <th>GHI(W/m2)</th>\n",
       "      <th>DHI(W/m2)</th>\n",
       "      <th>DNI(W/m2)</th>\n",
       "      <th>TEMPERATURE</th>\n",
       "      <th>R.HUMIDITY</th>\n",
       "      <th>WINDSPEED</th>\n",
       "      <th>CABLE#1</th>\n",
       "      <th>CABLE#2</th>\n",
       "      <th>CABLE#3</th>\n",
       "      <th>CABLE#4</th>\n",
       "      <th>CABLE#5</th>\n",
       "      <th>TX(LV)</th>\n",
       "    </tr>\n",
       "  </thead>\n",
       "  <tbody>\n",
       "    <tr>\n",
       "      <th>0</th>\n",
       "      <td>0.0</td>\n",
       "      <td>0.0</td>\n",
       "      <td>1.0</td>\n",
       "      <td>23.2</td>\n",
       "      <td>95.26</td>\n",
       "      <td>11.9</td>\n",
       "      <td>0.00</td>\n",
       "      <td>0</td>\n",
       "      <td>0.00</td>\n",
       "      <td>0.00</td>\n",
       "      <td>0.00</td>\n",
       "      <td>0.00</td>\n",
       "    </tr>\n",
       "    <tr>\n",
       "      <th>1</th>\n",
       "      <td>261.0</td>\n",
       "      <td>145.0</td>\n",
       "      <td>436.0</td>\n",
       "      <td>24.3</td>\n",
       "      <td>89.70</td>\n",
       "      <td>17.6</td>\n",
       "      <td>2.68</td>\n",
       "      <td>2.74</td>\n",
       "      <td>2.68</td>\n",
       "      <td>2.75</td>\n",
       "      <td>1.77</td>\n",
       "      <td>12.16</td>\n",
       "    </tr>\n",
       "    <tr>\n",
       "      <th>2</th>\n",
       "      <td>123.0</td>\n",
       "      <td>127.0</td>\n",
       "      <td>5.0</td>\n",
       "      <td>25.8</td>\n",
       "      <td>80.06</td>\n",
       "      <td>22.7</td>\n",
       "      <td>4.68</td>\n",
       "      <td>3.03</td>\n",
       "      <td>2.71</td>\n",
       "      <td>1.86</td>\n",
       "      <td>0.88</td>\n",
       "      <td>12.52</td>\n",
       "    </tr>\n",
       "    <tr>\n",
       "      <th>3</th>\n",
       "      <td>775.0</td>\n",
       "      <td>205.0</td>\n",
       "      <td>748.0</td>\n",
       "      <td>28.2</td>\n",
       "      <td>69.53</td>\n",
       "      <td>22.3</td>\n",
       "      <td>6.64</td>\n",
       "      <td>7.77</td>\n",
       "      <td>7.47</td>\n",
       "      <td>7.93</td>\n",
       "      <td>4.62</td>\n",
       "      <td>35.92</td>\n",
       "    </tr>\n",
       "    <tr>\n",
       "      <th>4</th>\n",
       "      <td>936.0</td>\n",
       "      <td>129.0</td>\n",
       "      <td>870.0</td>\n",
       "      <td>28.3</td>\n",
       "      <td>66.23</td>\n",
       "      <td>23.8</td>\n",
       "      <td>8.77</td>\n",
       "      <td>8.87</td>\n",
       "      <td>8.80</td>\n",
       "      <td>8.86</td>\n",
       "      <td>5.76</td>\n",
       "      <td>41.68</td>\n",
       "    </tr>\n",
       "  </tbody>\n",
       "</table>\n",
       "</div>"
      ],
      "text/plain": [
       "   GHI(W/m2)  DHI(W/m2)  DNI(W/m2)  TEMPERATURE  R.HUMIDITY  WINDSPEED  \\\n",
       "0        0.0        0.0        1.0         23.2       95.26       11.9   \n",
       "1      261.0      145.0      436.0         24.3       89.70       17.6   \n",
       "2      123.0      127.0        5.0         25.8       80.06       22.7   \n",
       "3      775.0      205.0      748.0         28.2       69.53       22.3   \n",
       "4      936.0      129.0      870.0         28.3       66.23       23.8   \n",
       "\n",
       "   CABLE#1 CABLE#2  CABLE#3  CABLE#4  CABLE#5  TX(LV)  \n",
       "0     0.00       0     0.00     0.00     0.00    0.00  \n",
       "1     2.68    2.74     2.68     2.75     1.77   12.16  \n",
       "2     4.68    3.03     2.71     1.86     0.88   12.52  \n",
       "3     6.64    7.77     7.47     7.93     4.62   35.92  \n",
       "4     8.77    8.87     8.80     8.86     5.76   41.68  "
      ]
     },
     "metadata": {},
     "output_type": "display_data"
    },
    {
     "name": "stdout",
     "output_type": "stream",
     "text": [
      "Filtered data :\n",
      " None\n"
     ]
    }
   ],
   "source": [
    "df4=df_no_nul[(df3.HOUR >= 6) & (df3.HOUR <= 17)]\n",
    "df4.to_csv('sorted1.csv')\n",
    "print('Filtered data :\\n', display(df4.head()))"
   ]
  },
  {
   "cell_type": "code",
   "execution_count": 38,
   "metadata": {},
   "outputs": [],
   "source": [
    "\n",
    "from sklearn.model_selection import train_test_split\n",
    "X=df3.iloc[:,1:12]\n",
    "y=df3.iloc[:,-1]\n",
    "X_train,X_test,y_train,y_test=train_test_split(X,y,test_size=0.2,random_state=0)\n"
   ]
  },
  {
   "cell_type": "code",
   "execution_count": 39,
   "metadata": {},
   "outputs": [
    {
     "name": "stderr",
     "output_type": "stream",
     "text": [
      "C:\\Users\\ip 5\\AppData\\Local\\Temp\\ipykernel_320\\3930281860.py:2: SettingWithCopyWarning: \n",
      "A value is trying to be set on a copy of a slice from a DataFrame\n",
      "\n",
      "See the caveats in the documentation: https://pandas.pydata.org/pandas-docs/stable/user_guide/indexing.html#returning-a-view-versus-a-copy\n",
      "  y[y< 0] = 0\n",
      "C:\\Users\\ip 5\\AppData\\Local\\Temp\\ipykernel_320\\3930281860.py:3: SettingWithCopyWarning: \n",
      "A value is trying to be set on a copy of a slice from a DataFrame\n",
      "\n",
      "See the caveats in the documentation: https://pandas.pydata.org/pandas-docs/stable/user_guide/indexing.html#returning-a-view-versus-a-copy\n",
      "  y[y< 0] = 0\n"
     ]
    }
   ],
   "source": [
    "#Removing -ve values\n",
    "y[y< 0] = 0\n",
    "y[y< 0] = 0\n",
    "X[X< 0] = 0\n",
    "X[X< 0] = 0"
   ]
  },
  {
   "cell_type": "code",
   "execution_count": 40,
   "metadata": {},
   "outputs": [
    {
     "data": {
      "text/plain": [
       "0         0.000000\n",
       "1        12.160000\n",
       "2        12.520000\n",
       "3        35.920000\n",
       "4        41.680000\n",
       "           ...    \n",
       "13645    22.770552\n",
       "13646     8.462348\n",
       "13647     8.320916\n",
       "13648     4.455108\n",
       "13649     1.320000\n",
       "Name: TX(LV), Length: 13638, dtype: float64"
      ]
     },
     "execution_count": 40,
     "metadata": {},
     "output_type": "execute_result"
    }
   ],
   "source": [
    "y"
   ]
  },
  {
   "cell_type": "code",
   "execution_count": 41,
   "metadata": {},
   "outputs": [],
   "source": [
    "from sklearn.preprocessing import StandardScaler\n",
    "from sklearn.decomposition import PCA\n",
    "from sklearn.linear_model import LogisticRegression\n",
    "from sklearn.pipeline import make_pipeline\n",
    "#Scaling X data \n",
    "scaler = StandardScaler()\n",
    "df45 = scaler.fit_transform(X)\n",
    "X_train_scaled =pd.DataFrame(df45)\n",
    "scaler_test = StandardScaler()\n",
    "df50 = scaler_test.fit_transform(X_test)\n",
    "X_test_scaled =pd.DataFrame(df50)"
   ]
  },
  {
   "cell_type": "code",
   "execution_count": 42,
   "metadata": {},
   "outputs": [],
   "source": [
    "#X variables scaled converted to float32 data type\n",
    "Xn=np.asarray(X_train_scaled).astype(np.float32)\n",
    "Xn_test=np.asarray(X_test_scaled).astype(np.float32)\n",
    "#Y1 variables converted to float32 data type\n",
    "y1_train =pd.DataFrame(y)\n",
    "Y1_train = np.asarray(y1_train).astype(np.float32)\n",
    "y1_test = pd.DataFrame(y_test)\n",
    "Y1_test = np.asarray(y1_test).astype(np.float32)"
   ]
  },
  {
   "cell_type": "code",
   "execution_count": 43,
   "metadata": {},
   "outputs": [],
   "source": [
    "#Solar Power Prediction using different ML techniques\n",
    "#using Regression\n",
    "X1 = X_train_scaled\n",
    "X1_test =X_test_scaled\n",
    "Y1 = Y1_train #Energy output"
   ]
  },
  {
   "cell_type": "code",
   "execution_count": 44,
   "metadata": {},
   "outputs": [
    {
     "name": "stdout",
     "output_type": "stream",
     "text": [
      "Rsquare_lr: -5.773141201204404e+19\n",
      "MAE_lr : 88123507481.08661\n",
      "RMSE_lr: 106597175444.79529\n",
      "Accuracy: -195232921960.06464\n"
     ]
    }
   ],
   "source": [
    "#Linear Regression algorithm\n",
    "from sklearn.linear_model import LinearRegression\n",
    "from sklearn.metrics import mean_absolute_error,r2_score,mean_squared_error\n",
    "lr = LinearRegression()\n",
    "lr.fit(X1,Y1)\n",
    "#Model Evaluation\n",
    "Ypred_lr = lr.predict(X1_test)\n",
    "Rsquare_lr=r2_score(Y1_test, Ypred_lr)\n",
    "MAE_lr = mean_absolute_error(Y1_test,Ypred_lr)\n",
    "RMSE_lr = np.sqrt(mean_squared_error(Y1_test, Ypred_lr))\n",
    "Accuracy_lr = ((54.6-RMSE_lr)/54.6)*100\n",
    "print(\"Rsquare_lr:\",Rsquare_lr)\n",
    "print(\"MAE_lr :\",MAE_lr)\n",
    "print(\"RMSE_lr:\",RMSE_lr)\n",
    "print(\"Accuracy:\",Accuracy_lr )\n",
    "#=====================================\n"
   ]
  },
  {
   "cell_type": "code",
   "execution_count": null,
   "metadata": {},
   "outputs": [],
   "source": []
  }
 ],
 "metadata": {
  "kernelspec": {
   "display_name": "Python 3",
   "language": "python",
   "name": "python3"
  },
  "language_info": {
   "codemirror_mode": {
    "name": "ipython",
    "version": 3
   },
   "file_extension": ".py",
   "mimetype": "text/x-python",
   "name": "python",
   "nbconvert_exporter": "python",
   "pygments_lexer": "ipython3",
   "version": "3.10.0"
  },
  "orig_nbformat": 4
 },
 "nbformat": 4,
 "nbformat_minor": 2
}
