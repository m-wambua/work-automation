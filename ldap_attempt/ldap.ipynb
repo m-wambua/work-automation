{
 "cells": [
  {
   "cell_type": "code",
   "execution_count": 4,
   "metadata": {},
   "outputs": [
    {
     "name": "stdout",
     "output_type": "stream",
     "text": [
      "Requirement already satisfied: python3-ldap in c:\\users\\ip 5\\mike\\work_related\\work_related\\lib\\site-packages (0.9.8.4)\n",
      "Requirement already satisfied: pyasn1>=0.1.7 in c:\\users\\ip 5\\mike\\work_related\\work_related\\lib\\site-packages (from python3-ldap) (0.5.0)\n"
     ]
    }
   ],
   "source": [
    "! pip install python3-ldap"
   ]
  },
  {
   "cell_type": "code",
   "execution_count": 5,
   "metadata": {},
   "outputs": [
    {
     "ename": "ModuleNotFoundError",
     "evalue": "No module named 'ldap'",
     "output_type": "error",
     "traceback": [
      "\u001b[1;31m---------------------------------------------------------------------------\u001b[0m",
      "\u001b[1;31mModuleNotFoundError\u001b[0m                       Traceback (most recent call last)",
      "Cell \u001b[1;32mIn[5], line 1\u001b[0m\n\u001b[1;32m----> 1\u001b[0m \u001b[39mimport\u001b[39;00m \u001b[39mldap\u001b[39;00m\n\u001b[0;32m      4\u001b[0m \u001b[39mimport\u001b[39;00m \u001b[39mconfigparser\u001b[39;00m\n\u001b[0;32m      5\u001b[0m \u001b[39mfrom\u001b[39;00m \u001b[39mcridentials\u001b[39;00m \u001b[39mimport\u001b[39;00m username,password\n",
      "\u001b[1;31mModuleNotFoundError\u001b[0m: No module named 'ldap'"
     ]
    }
   ],
   "source": [
    "\n",
    "import ldap\n",
    "\n",
    "\n",
    "import configparser\n",
    "from cridentials import username,password\n",
    "# LDAP server details\n",
    "ldap_server = 'ldap://ERC-SVRV7.erc.go.ke'\n",
    "ldap_username = username\n",
    "ldap_password = password\n",
    "\n",
    "# Establish LDAP connection\n",
    "ldap_connection = ldap.initialize(ldap_server)\n",
    "ldap_connection.simple_bind_s(ldap_username, ldap_password)\n",
    "\n",
    "# ...\n",
    "\n",
    "# Perform LDAP search\n",
    "search_filter='(ID=358481)'\n",
    "base_dn = 'dc=erc,dc=go,dc=ke'  # Modify as per your LDAP directory structure\n",
    "search_results = ldap_connection.search_s(base_dn, ldap.SCOPE_SUBTREE, search_filter)\n",
    "\n",
    "# Process search results\n",
    "for dn, entry in search_results:\n",
    "    # Extract and process the desired data from the LDAP entry\n",
    "    # Example: Print the DN and entry\n",
    "    print(\"DN:\", dn)\n",
    "    print(\"Entry:\", entry)\n",
    "\n",
    "# ...\n",
    "\n",
    "# Close LDAP connection\n",
    "ldap_connection.unbind()\n"
   ]
  },
  {
   "cell_type": "code",
   "execution_count": null,
   "metadata": {},
   "outputs": [],
   "source": []
  }
 ],
 "metadata": {
  "kernelspec": {
   "display_name": "work_related",
   "language": "python",
   "name": "python3"
  },
  "language_info": {
   "codemirror_mode": {
    "name": "ipython",
    "version": 3
   },
   "file_extension": ".py",
   "mimetype": "text/x-python",
   "name": "python",
   "nbconvert_exporter": "python",
   "pygments_lexer": "ipython3",
   "version": "3.8.8"
  },
  "orig_nbformat": 4
 },
 "nbformat": 4,
 "nbformat_minor": 2
}
