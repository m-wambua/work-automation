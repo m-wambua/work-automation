{
 "cells": [
  {
   "cell_type": "code",
   "execution_count": 6,
   "metadata": {},
   "outputs": [
    {
     "name": "stderr",
     "output_type": "stream",
     "text": [
      "C:\\Users\\ip 5\\AppData\\Local\\Temp\\ipykernel_21340\\30862120.py:37: DeprecationWarning: executable_path has been deprecated, please pass in a Service object\n",
      "  browser = webdriver.Chrome(executable_path=driver_path, options=options)\n"
     ]
    }
   ],
   "source": [
    "# Improvement 1 from chatgpt on the same\n",
    "'''\n",
    "In this code, I have made the following changes:\n",
    "\n",
    "Moved the applicant_data dictionary creation inside the tab loop, ensuring a new dictionary is created for each tab iteration.\n",
    "Created a new tab_data dictionary to store the extracted data for the current tab.\n",
    "Appended tab_data to the df_data DataFrame for each tab iteration.\n",
    "'''\n",
    "import configparser\n",
    "from cridentials import username,password\n",
    "from selenium import webdriver\n",
    "from selenium.webdriver.common.action_chains import ActionChains\n",
    "from selenium.webdriver.common.by import By\n",
    "from selenium.webdriver.chrome.options import Options\n",
    "import time\n",
    "import pandas as pd\n",
    "import os\n",
    "# Get the current directory\n",
    "current_dir = os.getcwd()\n",
    "\n",
    "# Construct the relative path to the download directory\n",
    "download_dir = os.path.join(current_dir, 'data')\n",
    "\n",
    "# Construct the relative path to the chromedriver executable\n",
    "driver_path = os.path.join(current_dir, 'chromedriver.exe')\n",
    "\n",
    "# Configure any desired options\n",
    "options = Options()\n",
    "options.add_experimental_option(\"prefs\", {\n",
    "    \"download.default_directory\": download_dir,\n",
    "    \"download.prompt_for_download\": False,\n",
    "    \"download.directory_upgrade\": True,\n",
    "    \"safebrowsing.enabled\": True\n",
    "})\n",
    "\n",
    "# Create the webdriver instance\n",
    "browser = webdriver.Chrome(executable_path=driver_path, options=options)\n",
    "browser.get('https://portal.erc.go.ke:8446/site/login')# load the configuration file\n",
    "config=configparser.ConfigParser()\n",
    "config.read('config.ini')\n",
    "# Retrieve the username and password from the configuration file\n",
    "username=config.get('Credentials', 'username')\n",
    "password=config.get('Credentials', 'password')\n",
    "username_element = browser.find_element(By.NAME, 'LoginForm[username]')\n",
    "password_element = browser.find_element(By.NAME, 'LoginForm[password]')\n",
    "\n",
    "username_element.send_keys(username)\n",
    "password_element.send_keys(password)\n",
    "time.sleep(15)\n",
    "login_button = browser.find_element(By.NAME, 'login-button')\n",
    "login_button.click()\n",
    "\n",
    "# Navigating to the electricity department menu\n",
    "time.sleep(10)\n",
    "actions = ActionChains(browser)\n",
    "main_menu = browser.find_element(By.XPATH, '/html/body/div[2]/header/nav/div/div/div[2]/ul/li[7]')\n",
    "actions.move_to_element(main_menu).perform()\n",
    "sub_menu = browser.find_element(By.XPATH, '/html/body/div[2]/header/nav/div/div/div[2]/ul/li[7]/ul/li[1]')\n",
    "sub_menu.click()\n",
    "\n",
    "# Clicking the Excel Button\n",
    "excel_button = browser.find_element(By.XPATH, '/html/body/div[2]/div/div/div[2]/div/div[1]/button[1]')\n",
    "excel_button.click()\n",
    "time.sleep(5)\n",
    "\n",
    "# Load the Excel file\n",
    "df = pd.read_excel('C:/Users/ip 5/mike/work_related/data/ERC Internal Portal.xlsx')\n",
    "data = {\"Links\": []}\n",
    "df_data = pd.DataFrame()\n",
    "\n",
    "# Loop through the rows of the column containing the 'review?ref=' strings\n",
    "for row in df.iloc[2:, 0]:\n",
    "    # Split the string at the equal sign to extract the value\n",
    "    my_string = 'https://portal.erc.go.ke:8446/new-licence-applications/review?ref='\n",
    "    my_integer = row\n",
    "\n",
    "    # Use an f-string to insert the integer into the string\n",
    "    result = f'{my_string}{my_integer}'\n",
    "    data[\"Links\"].append(result)\n",
    "    browser.get(result)\n",
    "    tabs = browser.find_elements(By.XPATH, '/html/body/div[2]/div/div/div[2]/div/div[2]/div/ul/li')\n",
    "    applicant_data = {}\n",
    "\n",
    "    for tab in tabs:\n",
    "        tab.click()\n",
    "        time.sleep(2)\n",
    "        # Define the root XPATH\n",
    "        root_xpath = '/html/body/div[2]/div/div/div[2]/div/div[2]/div/div/div[2]/div/form'\n",
    "        # Locate all the input elements that are children of div elements under the root XPATH\n",
    "        input_elements = browser.find_elements(By.XPATH, f'{root_xpath}//div/input')\n",
    "        # Define a dictionary to store the extracted data for the current tab\n",
    "        tab_data = {}\n",
    "\n",
    "        # Loop through the located input elements\n",
    "        for i, input_element in enumerate(input_elements):\n",
    "            # Extract the value of the current input element\n",
    "            input_value = input_element.get_attribute('value')\n",
    "            # Store the extracted value in the dictionary using a column name based on the index of the input element\n",
    "            tab_data[f'Input {i + 1}'] = input_value\n",
    "\n",
    "        # Append the extracted data for the current tab to the DataFrame\n",
    "    df_data = pd.concat([df_data, pd.DataFrame(tab_data, index=[0])], ignore_index=True)\n",
    "\n",
    "df_company = pd.DataFrame(data)\n",
    "df_company.to_excel(\"output_1.xlsx\", index=False)\n",
    "df_data.to_excel('input_values.xlsx', index=False)\n",
    "\n",
    "browser.quit()\n"
   ]
  },
  {
   "cell_type": "code",
   "execution_count": 3,
   "metadata": {},
   "outputs": [
    {
     "name": "stdout",
     "output_type": "stream",
     "text": [
      "Kiprotich.Bii Sup.Reem23!\n"
     ]
    }
   ],
   "source": [
    "from cridentials import username,password\n",
    "\n",
    "print(username,password)"
   ]
  },
  {
   "cell_type": "code",
   "execution_count": null,
   "metadata": {},
   "outputs": [],
   "source": []
  }
 ],
 "metadata": {
  "kernelspec": {
   "display_name": "work_related",
   "language": "python",
   "name": "python3"
  },
  "language_info": {
   "codemirror_mode": {
    "name": "ipython",
    "version": 3
   },
   "file_extension": ".py",
   "mimetype": "text/x-python",
   "name": "python",
   "nbconvert_exporter": "python",
   "pygments_lexer": "ipython3",
   "version": "3.8.8"
  },
  "orig_nbformat": 4
 },
 "nbformat": 4,
 "nbformat_minor": 2
}
