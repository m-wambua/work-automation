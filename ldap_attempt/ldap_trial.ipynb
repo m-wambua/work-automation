import ldap


import configparser
from cridentials import username,password
# LDAP server details
ldap_server = 'ldap://ERC-SVRV7.erc.go.ke'
ldap_username = username
ldap_password = password

# Establish LDAP connection
ldap_connection = ldap.initialize(ldap_server)
ldap_connection.simple_bind_s(ldap_username, ldap_password)

# ...

# Perform LDAP search
search_filter='(ID=358481)'
base_dn = 'dc=erc,dc=go,dc=ke'  # Modify as per your LDAP directory structure
search_results = ldap_connection.search_s(base_dn, ldap.SCOPE_SUBTREE, search_filter)

# Process search results
for dn, entry in search_results:
    # Extract and process the desired data from the LDAP entry
    # Example: Print the DN and entry
    print("DN:", dn)
    print("Entry:", entry)

# ...

# Close LDAP connection
ldap_connection.unbind()
