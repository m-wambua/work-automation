{
 "cells": [
  {
   "cell_type": "code",
   "execution_count": 4,
   "metadata": {},
   "outputs": [
    {
     "name": "stderr",
     "output_type": "stream",
     "text": [
      "C:\\Users\\ip 5\\AppData\\Local\\Temp\\ipykernel_21340\\1179294096.py:26: DeprecationWarning: executable_path has been deprecated, please pass in a Service object\n",
      "  browser = webdriver.Chrome(executable_path=r'C:\\Users\\ip 5\\mike\\work_related\\chromedriver.exe', chrome_options=options)\n",
      "C:\\Users\\ip 5\\AppData\\Local\\Temp\\ipykernel_21340\\1179294096.py:26: DeprecationWarning: use options instead of chrome_options\n",
      "  browser = webdriver.Chrome(executable_path=r'C:\\Users\\ip 5\\mike\\work_related\\chromedriver.exe', chrome_options=options)\n"
     ]
    },
    {
     "ename": "NoSuchWindowException",
     "evalue": "Message: no such window: target window already closed\nfrom unknown error: web view not found\n  (Session info: chrome=113.0.5672.127)\nStacktrace:\nBacktrace:\n\tGetHandleVerifier [0x0048DCE3+50899]\n\t(No symbol) [0x0041E111]\n\t(No symbol) [0x00325588]\n\t(No symbol) [0x0030D333]\n\t(No symbol) [0x0036F4DB]\n\t(No symbol) [0x0037DB33]\n\t(No symbol) [0x0036B6F6]\n\t(No symbol) [0x00347708]\n\t(No symbol) [0x0034886D]\n\tGetHandleVerifier [0x006F3EAE+2566302]\n\tGetHandleVerifier [0x007292B1+2784417]\n\tGetHandleVerifier [0x0072327C+2759788]\n\tGetHandleVerifier [0x00525740+672048]\n\t(No symbol) [0x00428872]\n\t(No symbol) [0x004241C8]\n\t(No symbol) [0x004242AB]\n\t(No symbol) [0x004171B7]\n\tBaseThreadInitThunk [0x76847D59+25]\n\tRtlInitializeExceptionChain [0x7774B74B+107]\n\tRtlClearBits [0x7774B6CF+191]\n",
     "output_type": "error",
     "traceback": [
      "\u001b[1;31m---------------------------------------------------------------------------\u001b[0m",
      "\u001b[1;31mNoSuchWindowException\u001b[0m                     Traceback (most recent call last)",
      "Cell \u001b[1;32mIn[4], line 80\u001b[0m\n\u001b[0;32m     78\u001b[0m root_xpath \u001b[39m=\u001b[39m \u001b[39m'\u001b[39m\u001b[39m/html/body/div[2]/div/div/div[2]/div/div[2]/div/div/div[2]/div/form\u001b[39m\u001b[39m'\u001b[39m\n\u001b[0;32m     79\u001b[0m \u001b[39m# Locate all the input elements that are children of div elements under the root XPATH\u001b[39;00m\n\u001b[1;32m---> 80\u001b[0m input_elements \u001b[39m=\u001b[39m browser\u001b[39m.\u001b[39;49mfind_elements(By\u001b[39m.\u001b[39;49mXPATH, \u001b[39mf\u001b[39;49m\u001b[39m'\u001b[39;49m\u001b[39m{\u001b[39;49;00mroot_xpath\u001b[39m}\u001b[39;49;00m\u001b[39m//div/input\u001b[39;49m\u001b[39m'\u001b[39;49m)\n\u001b[0;32m     81\u001b[0m \u001b[39m# Define a dictionary to store the extracted data for the current tab\u001b[39;00m\n\u001b[0;32m     82\u001b[0m tab_data \u001b[39m=\u001b[39m {}\n",
      "File \u001b[1;32mc:\\Users\\ip 5\\mike\\work_related\\work_related\\lib\\site-packages\\selenium\\webdriver\\remote\\webdriver.py:861\u001b[0m, in \u001b[0;36mWebDriver.find_elements\u001b[1;34m(self, by, value)\u001b[0m\n\u001b[0;32m    857\u001b[0m     value \u001b[39m=\u001b[39m \u001b[39mf\u001b[39m\u001b[39m'\u001b[39m\u001b[39m[name=\u001b[39m\u001b[39m\"\u001b[39m\u001b[39m{\u001b[39;00mvalue\u001b[39m}\u001b[39;00m\u001b[39m\"\u001b[39m\u001b[39m]\u001b[39m\u001b[39m'\u001b[39m\n\u001b[0;32m    859\u001b[0m \u001b[39m# Return empty list if driver returns null\u001b[39;00m\n\u001b[0;32m    860\u001b[0m \u001b[39m# See https://github.com/SeleniumHQ/selenium/issues/4555\u001b[39;00m\n\u001b[1;32m--> 861\u001b[0m \u001b[39mreturn\u001b[39;00m \u001b[39mself\u001b[39;49m\u001b[39m.\u001b[39;49mexecute(Command\u001b[39m.\u001b[39;49mFIND_ELEMENTS, {\u001b[39m\"\u001b[39;49m\u001b[39musing\u001b[39;49m\u001b[39m\"\u001b[39;49m: by, \u001b[39m\"\u001b[39;49m\u001b[39mvalue\u001b[39;49m\u001b[39m\"\u001b[39;49m: value})[\u001b[39m\"\u001b[39m\u001b[39mvalue\u001b[39m\u001b[39m\"\u001b[39m] \u001b[39mor\u001b[39;00m []\n",
      "File \u001b[1;32mc:\\Users\\ip 5\\mike\\work_related\\work_related\\lib\\site-packages\\selenium\\webdriver\\remote\\webdriver.py:440\u001b[0m, in \u001b[0;36mWebDriver.execute\u001b[1;34m(self, driver_command, params)\u001b[0m\n\u001b[0;32m    438\u001b[0m response \u001b[39m=\u001b[39m \u001b[39mself\u001b[39m\u001b[39m.\u001b[39mcommand_executor\u001b[39m.\u001b[39mexecute(driver_command, params)\n\u001b[0;32m    439\u001b[0m \u001b[39mif\u001b[39;00m response:\n\u001b[1;32m--> 440\u001b[0m     \u001b[39mself\u001b[39;49m\u001b[39m.\u001b[39;49merror_handler\u001b[39m.\u001b[39;49mcheck_response(response)\n\u001b[0;32m    441\u001b[0m     response[\u001b[39m\"\u001b[39m\u001b[39mvalue\u001b[39m\u001b[39m\"\u001b[39m] \u001b[39m=\u001b[39m \u001b[39mself\u001b[39m\u001b[39m.\u001b[39m_unwrap_value(response\u001b[39m.\u001b[39mget(\u001b[39m\"\u001b[39m\u001b[39mvalue\u001b[39m\u001b[39m\"\u001b[39m, \u001b[39mNone\u001b[39;00m))\n\u001b[0;32m    442\u001b[0m     \u001b[39mreturn\u001b[39;00m response\n",
      "File \u001b[1;32mc:\\Users\\ip 5\\mike\\work_related\\work_related\\lib\\site-packages\\selenium\\webdriver\\remote\\errorhandler.py:245\u001b[0m, in \u001b[0;36mErrorHandler.check_response\u001b[1;34m(self, response)\u001b[0m\n\u001b[0;32m    243\u001b[0m         alert_text \u001b[39m=\u001b[39m value[\u001b[39m\"\u001b[39m\u001b[39malert\u001b[39m\u001b[39m\"\u001b[39m]\u001b[39m.\u001b[39mget(\u001b[39m\"\u001b[39m\u001b[39mtext\u001b[39m\u001b[39m\"\u001b[39m)\n\u001b[0;32m    244\u001b[0m     \u001b[39mraise\u001b[39;00m exception_class(message, screen, stacktrace, alert_text)  \u001b[39m# type: ignore[call-arg]  # mypy is not smart enough here\u001b[39;00m\n\u001b[1;32m--> 245\u001b[0m \u001b[39mraise\u001b[39;00m exception_class(message, screen, stacktrace)\n",
      "\u001b[1;31mNoSuchWindowException\u001b[0m: Message: no such window: target window already closed\nfrom unknown error: web view not found\n  (Session info: chrome=113.0.5672.127)\nStacktrace:\nBacktrace:\n\tGetHandleVerifier [0x0048DCE3+50899]\n\t(No symbol) [0x0041E111]\n\t(No symbol) [0x00325588]\n\t(No symbol) [0x0030D333]\n\t(No symbol) [0x0036F4DB]\n\t(No symbol) [0x0037DB33]\n\t(No symbol) [0x0036B6F6]\n\t(No symbol) [0x00347708]\n\t(No symbol) [0x0034886D]\n\tGetHandleVerifier [0x006F3EAE+2566302]\n\tGetHandleVerifier [0x007292B1+2784417]\n\tGetHandleVerifier [0x0072327C+2759788]\n\tGetHandleVerifier [0x00525740+672048]\n\t(No symbol) [0x00428872]\n\t(No symbol) [0x004241C8]\n\t(No symbol) [0x004242AB]\n\t(No symbol) [0x004171B7]\n\tBaseThreadInitThunk [0x76847D59+25]\n\tRtlInitializeExceptionChain [0x7774B74B+107]\n\tRtlClearBits [0x7774B6CF+191]\n"
     ]
    }
   ],
   "source": [
    "# Improvement 1 from chatgpt on the same\n",
    "'''\n",
    "In this code, I have made the following changes:\n",
    "\n",
    "Moved the applicant_data dictionary creation inside the tab loop, ensuring a new dictionary is created for each tab iteration.\n",
    "Created a new tab_data dictionary to store the extracted data for the current tab.\n",
    "Appended tab_data to the df_data DataFrame for each tab iteration.\n",
    "'''\n",
    "import configparser\n",
    "from cridentials import username,password\n",
    "from selenium import webdriver\n",
    "from selenium.webdriver.common.action_chains import ActionChains\n",
    "from selenium.webdriver.common.by import By\n",
    "from selenium.webdriver.chrome.options import Options\n",
    "import time\n",
    "import pandas as pd\n",
    "\n",
    "options = Options()\n",
    "options.add_experimental_option(\"prefs\", {\n",
    "  \"download.default_directory\": r\"C:\\Users\\ip 5\\mike\\work_related\\data\",\n",
    "  \"download.prompt_for_download\": False,\n",
    "  \"download.directory_upgrade\": True,\n",
    "  \"safebrowsing.enabled\": True\n",
    "})\n",
    "\n",
    "browser = webdriver.Chrome(executable_path=r'C:\\Users\\ip 5\\mike\\work_related\\chromedriver.exe', chrome_options=options)\n",
    "browser.get('https://portal.erc.go.ke:8446/site/login')\n",
    "# load the configuration file\n",
    "config=configparser.ConfigParser()\n",
    "config.read('config.ini')\n",
    "# Retrieve the username and password from the configuration file\n",
    "username=config.get('Credentials', 'username')\n",
    "password=config.get('Credentials', 'password')\n",
    "username_element = browser.find_element(By.NAME, 'LoginForm[username]')\n",
    "password_element = browser.find_element(By.NAME, 'LoginForm[password]')\n",
    "\n",
    "username_element.send_keys(username)\n",
    "password_element.send_keys(password)\n",
    "time.sleep(15)\n",
    "login_button = browser.find_element(By.NAME, 'login-button')\n",
    "login_button.click()\n",
    "\n",
    "# Navigating to the electricity department menu\n",
    "time.sleep(10)\n",
    "actions = ActionChains(browser)\n",
    "main_menu = browser.find_element(By.XPATH, '/html/body/div[2]/header/nav/div/div/div[2]/ul/li[7]')\n",
    "actions.move_to_element(main_menu).perform()\n",
    "sub_menu = browser.find_element(By.XPATH, '/html/body/div[2]/header/nav/div/div/div[2]/ul/li[7]/ul/li[1]')\n",
    "sub_menu.click()\n",
    "\n",
    "# Clicking the Excel Button\n",
    "excel_button = browser.find_element(By.XPATH, '/html/body/div[2]/div/div/div[2]/div/div[1]/button[1]')\n",
    "excel_button.click()\n",
    "time.sleep(5)\n",
    "\n",
    "# Load the Excel file\n",
    "df = pd.read_excel('C:/Users/ip 5/mike/work_related/data/ERC Internal Portal.xlsx')\n",
    "data = {\"Links\": []}\n",
    "df_data = pd.DataFrame()\n",
    "\n",
    "# Loop through the rows of the column containing the 'review?ref=' strings\n",
    "for row in df.iloc[2:, 0]:\n",
    "    # Split the string at the equal sign to extract the value\n",
    "    my_string = 'https://portal.erc.go.ke:8446/new-licence-applications/review?ref='\n",
    "    my_integer = row\n",
    "\n",
    "    # Use an f-string to insert the integer into the string\n",
    "    result = f'{my_string}{my_integer}'\n",
    "    data[\"Links\"].append(result)\n",
    "    browser.get(result)\n",
    "    tabs = browser.find_elements(By.XPATH, '/html/body/div[2]/div/div/div[2]/div/div[2]/div/ul/li')\n",
    "    applicant_data = {}\n",
    "\n",
    "    for tab in tabs:\n",
    "        tab.click()\n",
    "        time.sleep(2)\n",
    "        # Define the root XPATH\n",
    "        root_xpath = '/html/body/div[2]/div/div/div[2]/div/div[2]/div/div/div[2]/div/form'\n",
    "        # Locate all the input elements that are children of div elements under the root XPATH\n",
    "        input_elements = browser.find_elements(By.XPATH, f'{root_xpath}//div/input')\n",
    "        # Define a dictionary to store the extracted data for the current tab\n",
    "        tab_data = {}\n",
    "\n",
    "        # Loop through the located input elements\n",
    "        for i, input_element in enumerate(input_elements):\n",
    "            # Extract the value of the current input element\n",
    "            input_value = input_element.get_attribute('value')\n",
    "            # Store the extracted value in the dictionary using a column name based on the index of the input element\n",
    "            tab_data[f'Input {i + 1}'] = input_value\n",
    "\n",
    "        # Append the extracted data for the current tab to the DataFrame\n",
    "    df_data = pd.concat([df_data, pd.DataFrame(tab_data, index=[0])], ignore_index=True)\n",
    "\n",
    "df_company = pd.DataFrame(data)\n",
    "df_company.to_excel(\"output_1.xlsx\", index=False)\n",
    "df_data.to_excel('input_values.xlsx', index=False)\n",
    "\n",
    "browser.quit()\n"
   ]
  },
  {
   "cell_type": "code",
   "execution_count": 3,
   "metadata": {},
   "outputs": [
    {
     "name": "stdout",
     "output_type": "stream",
     "text": [
      "Kiprotich.Bii Sup.Reem23!\n"
     ]
    }
   ],
   "source": [
    "from cridentials import username,password\n",
    "\n",
    "print(username,password)"
   ]
  },
  {
   "cell_type": "code",
   "execution_count": null,
   "metadata": {},
   "outputs": [],
   "source": []
  }
 ],
 "metadata": {
  "kernelspec": {
   "display_name": "work_related",
   "language": "python",
   "name": "python3"
  },
  "language_info": {
   "codemirror_mode": {
    "name": "ipython",
    "version": 3
   },
   "file_extension": ".py",
   "mimetype": "text/x-python",
   "name": "python",
   "nbconvert_exporter": "python",
   "pygments_lexer": "ipython3",
   "version": "3.8.8"
  },
  "orig_nbformat": 4
 },
 "nbformat": 4,
 "nbformat_minor": 2
}
